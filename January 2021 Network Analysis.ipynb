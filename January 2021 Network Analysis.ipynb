{
 "cells": [
  {
   "cell_type": "code",
   "execution_count": 1,
   "id": "1c9f9ebe",
   "metadata": {},
   "outputs": [],
   "source": [
    "import seaborn as sns\n",
    "import pandas as pd\n",
    "%matplotlib inline"
   ]
  },
  {
   "cell_type": "code",
   "execution_count": 2,
   "id": "3c31c355",
   "metadata": {},
   "outputs": [],
   "source": [
    "net = pd.read_csv('January_MySpeed_2021.csv')\n"
   ]
  },
  {
   "cell_type": "code",
   "execution_count": 3,
   "id": "e0b8ef53",
   "metadata": {},
   "outputs": [
    {
     "data": {
      "text/html": [
       "<div>\n",
       "<style scoped>\n",
       "    .dataframe tbody tr th:only-of-type {\n",
       "        vertical-align: middle;\n",
       "    }\n",
       "\n",
       "    .dataframe tbody tr th {\n",
       "        vertical-align: top;\n",
       "    }\n",
       "\n",
       "    .dataframe thead th {\n",
       "        text-align: right;\n",
       "    }\n",
       "</style>\n",
       "<table border=\"1\" class=\"dataframe\">\n",
       "  <thead>\n",
       "    <tr style=\"text-align: right;\">\n",
       "      <th></th>\n",
       "      <th>Service_provider</th>\n",
       "      <th>technology</th>\n",
       "      <th>Download_Upload</th>\n",
       "      <th>Data_Speed(Kbps)</th>\n",
       "      <th>signal_strength</th>\n",
       "      <th>Service_Area</th>\n",
       "    </tr>\n",
       "  </thead>\n",
       "  <tbody>\n",
       "    <tr>\n",
       "      <th>0</th>\n",
       "      <td>IDEA</td>\n",
       "      <td>4G</td>\n",
       "      <td>download</td>\n",
       "      <td>66</td>\n",
       "      <td>-95.0</td>\n",
       "      <td>Kerala</td>\n",
       "    </tr>\n",
       "    <tr>\n",
       "      <th>1</th>\n",
       "      <td>IDEA</td>\n",
       "      <td>4G</td>\n",
       "      <td>download</td>\n",
       "      <td>19008</td>\n",
       "      <td>-97.0</td>\n",
       "      <td>Kerala</td>\n",
       "    </tr>\n",
       "    <tr>\n",
       "      <th>2</th>\n",
       "      <td>IDEA</td>\n",
       "      <td>4G</td>\n",
       "      <td>download</td>\n",
       "      <td>23937</td>\n",
       "      <td>-98.0</td>\n",
       "      <td>Kerala</td>\n",
       "    </tr>\n",
       "    <tr>\n",
       "      <th>3</th>\n",
       "      <td>IDEA</td>\n",
       "      <td>4G</td>\n",
       "      <td>download</td>\n",
       "      <td>20187</td>\n",
       "      <td>-103.0</td>\n",
       "      <td>Kerala</td>\n",
       "    </tr>\n",
       "    <tr>\n",
       "      <th>4</th>\n",
       "      <td>IDEA</td>\n",
       "      <td>4G</td>\n",
       "      <td>download</td>\n",
       "      <td>26573</td>\n",
       "      <td>-101.0</td>\n",
       "      <td>Kerala</td>\n",
       "    </tr>\n",
       "  </tbody>\n",
       "</table>\n",
       "</div>"
      ],
      "text/plain": [
       "  Service_provider technology Download_Upload  Data_Speed(Kbps)  \\\n",
       "0             IDEA         4G        download                66   \n",
       "1             IDEA         4G        download             19008   \n",
       "2             IDEA         4G        download             23937   \n",
       "3             IDEA         4G        download             20187   \n",
       "4             IDEA         4G        download             26573   \n",
       "\n",
       "   signal_strength Service_Area  \n",
       "0            -95.0       Kerala  \n",
       "1            -97.0       Kerala  \n",
       "2            -98.0       Kerala  \n",
       "3           -103.0       Kerala  \n",
       "4           -101.0       Kerala  "
      ]
     },
     "execution_count": 3,
     "metadata": {},
     "output_type": "execute_result"
    }
   ],
   "source": [
    "net.head()"
   ]
  },
  {
   "cell_type": "code",
   "execution_count": 4,
   "id": "5a7e278d",
   "metadata": {},
   "outputs": [
    {
     "data": {
      "text/plain": [
       "<seaborn.axisgrid.FacetGrid at 0x22d31071e20>"
      ]
     },
     "execution_count": 4,
     "metadata": {},
     "output_type": "execute_result"
    },
    {
     "data": {
      "image/png": "[encoded data removed]",
      "text/plain": [
       "<Figure size 360x360 with 1 Axes>"
      ]
     },
     "metadata": {
      "needs_background": "light"
     },
     "output_type": "display_data"
    }
   ],
   "source": [
    "sns.displot(net['Data_Speed(Kbps)'],kde=False,bins=50)"
   ]
  },
  {
   "cell_type": "code",
   "execution_count": 5,
   "id": "c7121616",
   "metadata": {},
   "outputs": [
    {
     "data": {
      "text/plain": [
       "<seaborn.axisgrid.FacetGrid at 0x22d30f8ab80>"
      ]
     },
     "execution_count": 5,
     "metadata": {},
     "output_type": "execute_result"
    },
    {
     "data": {
      "image/png": "[encoded data removed]",
      "text/plain": [
       "<Figure size 360x360 with 1 Axes>"
      ]
     },
     "metadata": {
      "needs_background": "light"
     },
     "output_type": "display_data"
    }
   ],
   "source": [
    "sns.displot(net['signal_strength'],kde=False,bins=50)"
   ]
  },
  {
   "cell_type": "code",
   "execution_count": 6,
   "id": "b0fe6cee",
   "metadata": {},
   "outputs": [
    {
     "data": {
      "text/plain": [
       "Service_provider  technology  Download_Upload  Data_Speed(Kbps)  signal_strength  Service_Area  \n",
       "JIO               4G          upload           8640              -61.0            UP West           8\n",
       "                                               8653              -61.0            UP West           8\n",
       "                                               8821              -87.0            UP East           8\n",
       "                                               8664              -61.0            UP West           8\n",
       "AIRTEL            4G          download         0                 -51.0            UP East           7\n",
       "                                                                                                   ..\n",
       "IDEA              4G          download         1366              -105.0           Maharashtra       1\n",
       "                                                                 -80.0            UP West           1\n",
       "                                               1367              -75.0            Maharashtra       1\n",
       "                                               1369              -93.0            Madhya Pradesh    1\n",
       "VODAFONE          4G          upload           79402             -91.0            Delhi             1\n",
       "Length: 265845, dtype: int64"
      ]
     },
     "execution_count": 6,
     "metadata": {},
     "output_type": "execute_result"
    }
   ],
   "source": [
    "net.value_counts()"
   ]
  },
  {
   "cell_type": "code",
   "execution_count": 7,
   "id": "6874834d",
   "metadata": {},
   "outputs": [
    {
     "data": {
      "text/plain": [
       "8"
      ]
     },
     "execution_count": 7,
     "metadata": {},
     "output_type": "execute_result"
    }
   ],
   "source": [
    "net.value_counts().max()"
   ]
  },
  {
   "cell_type": "code",
   "execution_count": 8,
   "id": "f816f56f",
   "metadata": {
    "scrolled": true
   },
   "outputs": [
    {
     "data": {
      "text/plain": [
       "0           IDEA\n",
       "1           IDEA\n",
       "2           IDEA\n",
       "3           IDEA\n",
       "4           IDEA\n",
       "           ...  \n",
       "331846    AIRTEL\n",
       "331847       JIO\n",
       "331848       JIO\n",
       "331849       JIO\n",
       "331850       JIO\n",
       "Name: Service_provider, Length: 331851, dtype: object"
      ]
     },
     "execution_count": 8,
     "metadata": {},
     "output_type": "execute_result"
    }
   ],
   "source": [
    "net['Service_provider']"
   ]
  },
  {
   "cell_type": "code",
   "execution_count": 9,
   "id": "b6040dd4",
   "metadata": {},
   "outputs": [
    {
     "data": {
      "text/plain": [
       "JIO         170069\n",
       "AIRTEL      101256\n",
       "VODAFONE     25256\n",
       "IDEA         25017\n",
       "CELLONE      10253\n",
       "Name: Service_provider, dtype: int64"
      ]
     },
     "execution_count": 9,
     "metadata": {},
     "output_type": "execute_result"
    }
   ],
   "source": [
    "net['Service_provider'].value_counts()"
   ]
  },
  {
   "cell_type": "code",
   "execution_count": 10,
   "id": "bd39ed46",
   "metadata": {},
   "outputs": [
    {
     "data": {
      "text/plain": [
       "170069"
      ]
     },
     "execution_count": 10,
     "metadata": {},
     "output_type": "execute_result"
    }
   ],
   "source": [
    "net['Service_provider'].value_counts().max()"
   ]
  },
  {
   "cell_type": "code",
   "execution_count": 11,
   "id": "a7cb722a",
   "metadata": {},
   "outputs": [
    {
     "data": {
      "text/plain": [
       "Maharashtra         39655\n",
       "UP East             37925\n",
       "Kerala              26602\n",
       "Andhra Pradesh      25466\n",
       "UP West             23927\n",
       "Gujarat             19020\n",
       "Delhi               18167\n",
       "Tamil Nadu          17864\n",
       "Madhya Pradesh      16634\n",
       "Karnataka           15650\n",
       "Bihar               15234\n",
       "Rajasthan           13729\n",
       "Orissa              11627\n",
       "Punjab              10416\n",
       "Kolkata              8969\n",
       "West Bengal          7886\n",
       "Mumbai               6795\n",
       "Haryana              5534\n",
       "Chennai              3611\n",
       "Himachal Pradesh     2622\n",
       "Assam                2458\n",
       "Jammu & Kashmir      1047\n",
       "North East            749\n",
       "Name: Service_Area, dtype: int64"
      ]
     },
     "execution_count": 11,
     "metadata": {},
     "output_type": "execute_result"
    }
   ],
   "source": [
    "net['Service_Area'].value_counts()"
   ]
  },
  {
   "cell_type": "code",
   "execution_count": 12,
   "id": "75ce5194",
   "metadata": {},
   "outputs": [],
   "source": [
    "By_Area = net.groupby('Service_Area')"
   ]
  },
  {
   "cell_type": "code",
   "execution_count": 13,
   "id": "e4abc532",
   "metadata": {},
   "outputs": [
    {
     "data": {
      "text/html": [
       "<div>\n",
       "<style scoped>\n",
       "    .dataframe tbody tr th:only-of-type {\n",
       "        vertical-align: middle;\n",
       "    }\n",
       "\n",
       "    .dataframe tbody tr th {\n",
       "        vertical-align: top;\n",
       "    }\n",
       "\n",
       "    .dataframe thead th {\n",
       "        text-align: right;\n",
       "    }\n",
       "</style>\n",
       "<table border=\"1\" class=\"dataframe\">\n",
       "  <thead>\n",
       "    <tr style=\"text-align: right;\">\n",
       "      <th></th>\n",
       "      <th>technology</th>\n",
       "      <th>Service_Area</th>\n",
       "    </tr>\n",
       "  </thead>\n",
       "  <tbody>\n",
       "    <tr>\n",
       "      <th>0</th>\n",
       "      <td>4G</td>\n",
       "      <td>Kerala</td>\n",
       "    </tr>\n",
       "    <tr>\n",
       "      <th>1</th>\n",
       "      <td>4G</td>\n",
       "      <td>Kerala</td>\n",
       "    </tr>\n",
       "    <tr>\n",
       "      <th>2</th>\n",
       "      <td>4G</td>\n",
       "      <td>Kerala</td>\n",
       "    </tr>\n",
       "    <tr>\n",
       "      <th>3</th>\n",
       "      <td>4G</td>\n",
       "      <td>Kerala</td>\n",
       "    </tr>\n",
       "    <tr>\n",
       "      <th>4</th>\n",
       "      <td>4G</td>\n",
       "      <td>Kerala</td>\n",
       "    </tr>\n",
       "    <tr>\n",
       "      <th>...</th>\n",
       "      <td>...</td>\n",
       "      <td>...</td>\n",
       "    </tr>\n",
       "    <tr>\n",
       "      <th>331846</th>\n",
       "      <td>4G</td>\n",
       "      <td>Rajasthan</td>\n",
       "    </tr>\n",
       "    <tr>\n",
       "      <th>331847</th>\n",
       "      <td>4G</td>\n",
       "      <td>Rajasthan</td>\n",
       "    </tr>\n",
       "    <tr>\n",
       "      <th>331848</th>\n",
       "      <td>4G</td>\n",
       "      <td>Rajasthan</td>\n",
       "    </tr>\n",
       "    <tr>\n",
       "      <th>331849</th>\n",
       "      <td>4G</td>\n",
       "      <td>Rajasthan</td>\n",
       "    </tr>\n",
       "    <tr>\n",
       "      <th>331850</th>\n",
       "      <td>4G</td>\n",
       "      <td>Rajasthan</td>\n",
       "    </tr>\n",
       "  </tbody>\n",
       "</table>\n",
       "<p>331851 rows × 2 columns</p>\n",
       "</div>"
      ],
      "text/plain": [
       "       technology Service_Area\n",
       "0              4G       Kerala\n",
       "1              4G       Kerala\n",
       "2              4G       Kerala\n",
       "3              4G       Kerala\n",
       "4              4G       Kerala\n",
       "...           ...          ...\n",
       "331846         4G    Rajasthan\n",
       "331847         4G    Rajasthan\n",
       "331848         4G    Rajasthan\n",
       "331849         4G    Rajasthan\n",
       "331850         4G    Rajasthan\n",
       "\n",
       "[331851 rows x 2 columns]"
      ]
     },
     "execution_count": 13,
     "metadata": {},
     "output_type": "execute_result"
    }
   ],
   "source": [
    "net[['technology','Service_Area']]"
   ]
  },
  {
   "cell_type": "code",
   "execution_count": 14,
   "id": "147d355a",
   "metadata": {},
   "outputs": [
    {
     "data": {
      "text/plain": [
       "Data_Speed(Kbps)  count    18167.000000\n",
       "                  mean      8373.581384\n",
       "                  std      10242.421526\n",
       "                  min          0.000000\n",
       "                  25%       1185.000000\n",
       "                  50%       4753.000000\n",
       "                  75%       9375.500000\n",
       "                  max      99621.000000\n",
       "signal_strength   count    16229.000000\n",
       "                  mean       -81.602625\n",
       "                  std         16.247710\n",
       "                  min       -112.000000\n",
       "                  25%        -93.000000\n",
       "                  50%        -84.000000\n",
       "                  75%        -71.000000\n",
       "                  max        -50.000000\n",
       "Name: Delhi, dtype: float64"
      ]
     },
     "execution_count": 14,
     "metadata": {},
     "output_type": "execute_result"
    }
   ],
   "source": [
    "By_Area.describe().loc['Delhi']"
   ]
  },
  {
   "cell_type": "code",
   "execution_count": 15,
   "id": "d3682304",
   "metadata": {
    "scrolled": true
   },
   "outputs": [],
   "source": [
    "By_tech = net.groupby('technology')"
   ]
  },
  {
   "cell_type": "code",
   "execution_count": 16,
   "id": "0948454f",
   "metadata": {},
   "outputs": [
    {
     "data": {
      "text/html": [
       "<div>\n",
       "<style scoped>\n",
       "    .dataframe tbody tr th:only-of-type {\n",
       "        vertical-align: middle;\n",
       "    }\n",
       "\n",
       "    .dataframe tbody tr th {\n",
       "        vertical-align: top;\n",
       "    }\n",
       "\n",
       "    .dataframe thead tr th {\n",
       "        text-align: left;\n",
       "    }\n",
       "\n",
       "    .dataframe thead tr:last-of-type th {\n",
       "        text-align: right;\n",
       "    }\n",
       "</style>\n",
       "<table border=\"1\" class=\"dataframe\">\n",
       "  <thead>\n",
       "    <tr>\n",
       "      <th></th>\n",
       "      <th colspan=\"8\" halign=\"left\">Data_Speed(Kbps)</th>\n",
       "      <th colspan=\"8\" halign=\"left\">signal_strength</th>\n",
       "    </tr>\n",
       "    <tr>\n",
       "      <th></th>\n",
       "      <th>count</th>\n",
       "      <th>mean</th>\n",
       "      <th>std</th>\n",
       "      <th>min</th>\n",
       "      <th>25%</th>\n",
       "      <th>50%</th>\n",
       "      <th>75%</th>\n",
       "      <th>max</th>\n",
       "      <th>count</th>\n",
       "      <th>mean</th>\n",
       "      <th>std</th>\n",
       "      <th>min</th>\n",
       "      <th>25%</th>\n",
       "      <th>50%</th>\n",
       "      <th>75%</th>\n",
       "      <th>max</th>\n",
       "    </tr>\n",
       "    <tr>\n",
       "      <th>technology</th>\n",
       "      <th></th>\n",
       "      <th></th>\n",
       "      <th></th>\n",
       "      <th></th>\n",
       "      <th></th>\n",
       "      <th></th>\n",
       "      <th></th>\n",
       "      <th></th>\n",
       "      <th></th>\n",
       "      <th></th>\n",
       "      <th></th>\n",
       "      <th></th>\n",
       "      <th></th>\n",
       "      <th></th>\n",
       "      <th></th>\n",
       "      <th></th>\n",
       "    </tr>\n",
       "  </thead>\n",
       "  <tbody>\n",
       "    <tr>\n",
       "      <th>3G</th>\n",
       "      <td>10385.0</td>\n",
       "      <td>1647.717285</td>\n",
       "      <td>1898.171242</td>\n",
       "      <td>0.0</td>\n",
       "      <td>430.0</td>\n",
       "      <td>1098.0</td>\n",
       "      <td>2046.0</td>\n",
       "      <td>26424.0</td>\n",
       "      <td>3225.0</td>\n",
       "      <td>-85.105736</td>\n",
       "      <td>12.635849</td>\n",
       "      <td>-111.0</td>\n",
       "      <td>-95.0</td>\n",
       "      <td>-87.0</td>\n",
       "      <td>-77.0</td>\n",
       "      <td>-51.0</td>\n",
       "    </tr>\n",
       "    <tr>\n",
       "      <th>4G</th>\n",
       "      <td>321466.0</td>\n",
       "      <td>8664.883726</td>\n",
       "      <td>15107.556307</td>\n",
       "      <td>0.0</td>\n",
       "      <td>842.0</td>\n",
       "      <td>3181.0</td>\n",
       "      <td>8634.0</td>\n",
       "      <td>137905.0</td>\n",
       "      <td>268563.0</td>\n",
       "      <td>-81.493679</td>\n",
       "      <td>17.656213</td>\n",
       "      <td>-112.0</td>\n",
       "      <td>-97.0</td>\n",
       "      <td>-82.0</td>\n",
       "      <td>-67.0</td>\n",
       "      <td>-50.0</td>\n",
       "    </tr>\n",
       "  </tbody>\n",
       "</table>\n",
       "</div>"
      ],
      "text/plain": [
       "           Data_Speed(Kbps)                                                 \\\n",
       "                      count         mean           std  min    25%     50%   \n",
       "technology                                                                   \n",
       "3G                  10385.0  1647.717285   1898.171242  0.0  430.0  1098.0   \n",
       "4G                 321466.0  8664.883726  15107.556307  0.0  842.0  3181.0   \n",
       "\n",
       "                             signal_strength                               \\\n",
       "               75%       max           count       mean        std    min   \n",
       "technology                                                                  \n",
       "3G          2046.0   26424.0          3225.0 -85.105736  12.635849 -111.0   \n",
       "4G          8634.0  137905.0        268563.0 -81.493679  17.656213 -112.0   \n",
       "\n",
       "                                    \n",
       "             25%   50%   75%   max  \n",
       "technology                          \n",
       "3G         -95.0 -87.0 -77.0 -51.0  \n",
       "4G         -97.0 -82.0 -67.0 -50.0  "
      ]
     },
     "execution_count": 16,
     "metadata": {},
     "output_type": "execute_result"
    }
   ],
   "source": [
    "By_tech.describe()"
   ]
  },
  {
   "cell_type": "code",
   "execution_count": 17,
   "id": "ea6b4201",
   "metadata": {},
   "outputs": [
    {
     "data": {
      "text/html": [
       "<div>\n",
       "<style scoped>\n",
       "    .dataframe tbody tr th:only-of-type {\n",
       "        vertical-align: middle;\n",
       "    }\n",
       "\n",
       "    .dataframe tbody tr th {\n",
       "        vertical-align: top;\n",
       "    }\n",
       "\n",
       "    .dataframe thead th {\n",
       "        text-align: right;\n",
       "    }\n",
       "</style>\n",
       "<table border=\"1\" class=\"dataframe\">\n",
       "  <thead>\n",
       "    <tr style=\"text-align: right;\">\n",
       "      <th></th>\n",
       "      <th>Service_provider</th>\n",
       "      <th>technology</th>\n",
       "      <th>Download_Upload</th>\n",
       "      <th>Data_Speed(Kbps)</th>\n",
       "      <th>signal_strength</th>\n",
       "    </tr>\n",
       "    <tr>\n",
       "      <th>Service_Area</th>\n",
       "      <th></th>\n",
       "      <th></th>\n",
       "      <th></th>\n",
       "      <th></th>\n",
       "      <th></th>\n",
       "    </tr>\n",
       "  </thead>\n",
       "  <tbody>\n",
       "    <tr>\n",
       "      <th>Kerala</th>\n",
       "      <td>IDEA</td>\n",
       "      <td>4G</td>\n",
       "      <td>download</td>\n",
       "      <td>66</td>\n",
       "      <td>-95.0</td>\n",
       "    </tr>\n",
       "    <tr>\n",
       "      <th>Kerala</th>\n",
       "      <td>IDEA</td>\n",
       "      <td>4G</td>\n",
       "      <td>download</td>\n",
       "      <td>19008</td>\n",
       "      <td>-97.0</td>\n",
       "    </tr>\n",
       "    <tr>\n",
       "      <th>Kerala</th>\n",
       "      <td>IDEA</td>\n",
       "      <td>4G</td>\n",
       "      <td>download</td>\n",
       "      <td>23937</td>\n",
       "      <td>-98.0</td>\n",
       "    </tr>\n",
       "    <tr>\n",
       "      <th>Kerala</th>\n",
       "      <td>IDEA</td>\n",
       "      <td>4G</td>\n",
       "      <td>download</td>\n",
       "      <td>20187</td>\n",
       "      <td>-103.0</td>\n",
       "    </tr>\n",
       "    <tr>\n",
       "      <th>Kerala</th>\n",
       "      <td>IDEA</td>\n",
       "      <td>4G</td>\n",
       "      <td>download</td>\n",
       "      <td>26573</td>\n",
       "      <td>-101.0</td>\n",
       "    </tr>\n",
       "    <tr>\n",
       "      <th>...</th>\n",
       "      <td>...</td>\n",
       "      <td>...</td>\n",
       "      <td>...</td>\n",
       "      <td>...</td>\n",
       "      <td>...</td>\n",
       "    </tr>\n",
       "    <tr>\n",
       "      <th>Rajasthan</th>\n",
       "      <td>AIRTEL</td>\n",
       "      <td>4G</td>\n",
       "      <td>upload</td>\n",
       "      <td>5978</td>\n",
       "      <td>-51.0</td>\n",
       "    </tr>\n",
       "    <tr>\n",
       "      <th>Rajasthan</th>\n",
       "      <td>JIO</td>\n",
       "      <td>4G</td>\n",
       "      <td>download</td>\n",
       "      <td>2728</td>\n",
       "      <td>-73.0</td>\n",
       "    </tr>\n",
       "    <tr>\n",
       "      <th>Rajasthan</th>\n",
       "      <td>JIO</td>\n",
       "      <td>4G</td>\n",
       "      <td>download</td>\n",
       "      <td>3300</td>\n",
       "      <td>-91.0</td>\n",
       "    </tr>\n",
       "    <tr>\n",
       "      <th>Rajasthan</th>\n",
       "      <td>JIO</td>\n",
       "      <td>4G</td>\n",
       "      <td>upload</td>\n",
       "      <td>3733</td>\n",
       "      <td>-77.0</td>\n",
       "    </tr>\n",
       "    <tr>\n",
       "      <th>Rajasthan</th>\n",
       "      <td>JIO</td>\n",
       "      <td>4G</td>\n",
       "      <td>upload</td>\n",
       "      <td>601</td>\n",
       "      <td>-91.0</td>\n",
       "    </tr>\n",
       "  </tbody>\n",
       "</table>\n",
       "<p>331851 rows × 5 columns</p>\n",
       "</div>"
      ],
      "text/plain": [
       "             Service_provider technology Download_Upload  Data_Speed(Kbps)  \\\n",
       "Service_Area                                                                 \n",
       "Kerala                   IDEA         4G        download                66   \n",
       "Kerala                   IDEA         4G        download             19008   \n",
       "Kerala                   IDEA         4G        download             23937   \n",
       "Kerala                   IDEA         4G        download             20187   \n",
       "Kerala                   IDEA         4G        download             26573   \n",
       "...                       ...        ...             ...               ...   \n",
       "Rajasthan              AIRTEL         4G          upload              5978   \n",
       "Rajasthan                 JIO         4G        download              2728   \n",
       "Rajasthan                 JIO         4G        download              3300   \n",
       "Rajasthan                 JIO         4G          upload              3733   \n",
       "Rajasthan                 JIO         4G          upload               601   \n",
       "\n",
       "              signal_strength  \n",
       "Service_Area                   \n",
       "Kerala                  -95.0  \n",
       "Kerala                  -97.0  \n",
       "Kerala                  -98.0  \n",
       "Kerala                 -103.0  \n",
       "Kerala                 -101.0  \n",
       "...                       ...  \n",
       "Rajasthan               -51.0  \n",
       "Rajasthan               -73.0  \n",
       "Rajasthan               -91.0  \n",
       "Rajasthan               -77.0  \n",
       "Rajasthan               -91.0  \n",
       "\n",
       "[331851 rows x 5 columns]"
      ]
     },
     "execution_count": 17,
     "metadata": {},
     "output_type": "execute_result"
    }
   ],
   "source": [
    "net.set_index('Service_Area')"
   ]
  },
  {
   "cell_type": "code",
   "execution_count": 20,
   "id": "d6613d15",
   "metadata": {},
   "outputs": [],
   "source": [
    "net02 = pd.read_csv('February_MySpeed_2021.csv')"
   ]
  },
  {
   "cell_type": "code",
   "execution_count": 21,
   "id": "39e5752f",
   "metadata": {},
   "outputs": [
    {
     "data": {
      "text/html": [
       "<div>\n",
       "<style scoped>\n",
       "    .dataframe tbody tr th:only-of-type {\n",
       "        vertical-align: middle;\n",
       "    }\n",
       "\n",
       "    .dataframe tbody tr th {\n",
       "        vertical-align: top;\n",
       "    }\n",
       "\n",
       "    .dataframe thead th {\n",
       "        text-align: right;\n",
       "    }\n",
       "</style>\n",
       "<table border=\"1\" class=\"dataframe\">\n",
       "  <thead>\n",
       "    <tr style=\"text-align: right;\">\n",
       "      <th></th>\n",
       "      <th>Service_provider</th>\n",
       "      <th>technology</th>\n",
       "      <th>Download_Upload</th>\n",
       "      <th>Data_Speed(Kbps)</th>\n",
       "      <th>signal_strength</th>\n",
       "      <th>Service_Area</th>\n",
       "    </tr>\n",
       "  </thead>\n",
       "  <tbody>\n",
       "    <tr>\n",
       "      <th>0</th>\n",
       "      <td>AIRTEL</td>\n",
       "      <td>4G</td>\n",
       "      <td>download</td>\n",
       "      <td>224</td>\n",
       "      <td>-59.0</td>\n",
       "      <td>UP East</td>\n",
       "    </tr>\n",
       "    <tr>\n",
       "      <th>1</th>\n",
       "      <td>AIRTEL</td>\n",
       "      <td>4G</td>\n",
       "      <td>download</td>\n",
       "      <td>17</td>\n",
       "      <td>NaN</td>\n",
       "      <td>UP East</td>\n",
       "    </tr>\n",
       "    <tr>\n",
       "      <th>2</th>\n",
       "      <td>AIRTEL</td>\n",
       "      <td>4G</td>\n",
       "      <td>download</td>\n",
       "      <td>24</td>\n",
       "      <td>-59.0</td>\n",
       "      <td>UP East</td>\n",
       "    </tr>\n",
       "    <tr>\n",
       "      <th>3</th>\n",
       "      <td>AIRTEL</td>\n",
       "      <td>4G</td>\n",
       "      <td>upload</td>\n",
       "      <td>37</td>\n",
       "      <td>-59.0</td>\n",
       "      <td>UP East</td>\n",
       "    </tr>\n",
       "    <tr>\n",
       "      <th>4</th>\n",
       "      <td>AIRTEL</td>\n",
       "      <td>4G</td>\n",
       "      <td>upload</td>\n",
       "      <td>749</td>\n",
       "      <td>-67.0</td>\n",
       "      <td>UP East</td>\n",
       "    </tr>\n",
       "  </tbody>\n",
       "</table>\n",
       "</div>"
      ],
      "text/plain": [
       "  Service_provider technology Download_Upload  Data_Speed(Kbps)  \\\n",
       "0           AIRTEL         4G        download               224   \n",
       "1           AIRTEL         4G        download                17   \n",
       "2           AIRTEL         4G        download                24   \n",
       "3           AIRTEL         4G          upload                37   \n",
       "4           AIRTEL         4G          upload               749   \n",
       "\n",
       "   signal_strength Service_Area  \n",
       "0            -59.0      UP East  \n",
       "1              NaN      UP East  \n",
       "2            -59.0      UP East  \n",
       "3            -59.0      UP East  \n",
       "4            -67.0      UP East  "
      ]
     },
     "execution_count": 21,
     "metadata": {},
     "output_type": "execute_result"
    }
   ],
   "source": [
    "net02.head()"
   ]
  },
  {
   "cell_type": "code",
   "execution_count": 23,
   "id": "6f54dafb",
   "metadata": {},
   "outputs": [],
   "source": [
    "By_tech2 = net02.groupby('technology')"
   ]
  },
  {
   "cell_type": "code",
   "execution_count": 25,
   "id": "da5dd1cb",
   "metadata": {},
   "outputs": [
    {
     "data": {
      "text/html": [
       "<div>\n",
       "<style scoped>\n",
       "    .dataframe tbody tr th:only-of-type {\n",
       "        vertical-align: middle;\n",
       "    }\n",
       "\n",
       "    .dataframe tbody tr th {\n",
       "        vertical-align: top;\n",
       "    }\n",
       "\n",
       "    .dataframe thead th {\n",
       "        text-align: right;\n",
       "    }\n",
       "</style>\n",
       "<table border=\"1\" class=\"dataframe\">\n",
       "  <thead>\n",
       "    <tr style=\"text-align: right;\">\n",
       "      <th></th>\n",
       "      <th>Data_Speed(Kbps)</th>\n",
       "      <th>signal_strength</th>\n",
       "    </tr>\n",
       "    <tr>\n",
       "      <th>technology</th>\n",
       "      <th></th>\n",
       "      <th></th>\n",
       "    </tr>\n",
       "  </thead>\n",
       "  <tbody>\n",
       "    <tr>\n",
       "      <th>3G</th>\n",
       "      <td>1716.947700</td>\n",
       "      <td>-81.778710</td>\n",
       "    </tr>\n",
       "    <tr>\n",
       "      <th>4G</th>\n",
       "      <td>7892.140023</td>\n",
       "      <td>-81.359036</td>\n",
       "    </tr>\n",
       "  </tbody>\n",
       "</table>\n",
       "</div>"
      ],
      "text/plain": [
       "            Data_Speed(Kbps)  signal_strength\n",
       "technology                                   \n",
       "3G               1716.947700       -81.778710\n",
       "4G               7892.140023       -81.359036"
      ]
     },
     "execution_count": 25,
     "metadata": {},
     "output_type": "execute_result"
    }
   ],
   "source": [
    "By_tech2.mean()"
   ]
  },
  {
   "cell_type": "code",
   "execution_count": 26,
   "id": "98804902",
   "metadata": {},
   "outputs": [
    {
     "data": {
      "text/html": [
       "<div>\n",
       "<style scoped>\n",
       "    .dataframe tbody tr th:only-of-type {\n",
       "        vertical-align: middle;\n",
       "    }\n",
       "\n",
       "    .dataframe tbody tr th {\n",
       "        vertical-align: top;\n",
       "    }\n",
       "\n",
       "    .dataframe thead th {\n",
       "        text-align: right;\n",
       "    }\n",
       "</style>\n",
       "<table border=\"1\" class=\"dataframe\">\n",
       "  <thead>\n",
       "    <tr style=\"text-align: right;\">\n",
       "      <th></th>\n",
       "      <th>Data_Speed(Kbps)</th>\n",
       "      <th>signal_strength</th>\n",
       "    </tr>\n",
       "    <tr>\n",
       "      <th>technology</th>\n",
       "      <th></th>\n",
       "      <th></th>\n",
       "    </tr>\n",
       "  </thead>\n",
       "  <tbody>\n",
       "    <tr>\n",
       "      <th>3G</th>\n",
       "      <td>1647.717285</td>\n",
       "      <td>-85.105736</td>\n",
       "    </tr>\n",
       "    <tr>\n",
       "      <th>4G</th>\n",
       "      <td>8664.883726</td>\n",
       "      <td>-81.493679</td>\n",
       "    </tr>\n",
       "  </tbody>\n",
       "</table>\n",
       "</div>"
      ],
      "text/plain": [
       "            Data_Speed(Kbps)  signal_strength\n",
       "technology                                   \n",
       "3G               1647.717285       -85.105736\n",
       "4G               8664.883726       -81.493679"
      ]
     },
     "execution_count": 26,
     "metadata": {},
     "output_type": "execute_result"
    }
   ],
   "source": [
    "By_tech.mean()"
   ]
  }
 ],
 "metadata": {
  "kernelspec": {
   "display_name": "Python 3 (ipykernel)",
   "language": "python",
   "name": "python3"
  },
  "language_info": {
   "codemirror_mode": {
    "name": "ipython",
    "version": 3
   },
   "file_extension": ".py",
   "mimetype": "text/x-python",
   "name": "python",
   "nbconvert_exporter": "python",
   "pygments_lexer": "ipython3",
   "version": "3.9.7"
  }
 },
 "nbformat": 4,
 "nbformat_minor": 5
}
